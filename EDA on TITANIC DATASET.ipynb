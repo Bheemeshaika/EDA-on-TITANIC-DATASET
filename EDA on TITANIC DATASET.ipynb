{
 "cells": [
  {
   "cell_type": "code",
   "execution_count": null,
   "metadata": {
    "_cell_guid": "b1076dfc-b9ad-4769-8c92-a6c4dae69d19",
    "_uuid": "8f2839f25d086af736a60e9eeb907d3b93b6e0e5",
    "execution": {
     "iopub.execute_input": "2022-07-29T22:26:37.105574Z",
     "iopub.status.busy": "2022-07-29T22:26:37.104548Z",
     "iopub.status.idle": "2022-07-29T22:26:37.138265Z",
     "shell.execute_reply": "2022-07-29T22:26:37.137382Z",
     "shell.execute_reply.started": "2022-07-29T22:26:37.105467Z"
    }
   },
   "outputs": [],
   "source": [
    "import numpy as np \n",
    "import pandas as pd \n",
    "\n",
    "import os\n",
    "for dirname, _, filenames in os.walk('/kaggle/input'):\n",
    "    for filename in filenames:\n",
    "        print(os.path.join(dirname, filename))\n"
   ]
  },
  {
   "cell_type": "code",
   "execution_count": null,
   "metadata": {},
   "outputs": [],
   "source": [
    "pip insall tensorflow"
   ]
  },
  {
   "cell_type": "markdown",
   "metadata": {},
   "source": [
    "# Import Libraries"
   ]
  },
  {
   "cell_type": "code",
   "execution_count": null,
   "metadata": {
    "execution": {
     "iopub.execute_input": "2022-07-29T22:26:37.424745Z",
     "iopub.status.busy": "2022-07-29T22:26:37.423725Z",
     "iopub.status.idle": "2022-07-29T22:26:47.577719Z",
     "shell.execute_reply": "2022-07-29T22:26:47.576566Z",
     "shell.execute_reply.started": "2022-07-29T22:26:37.424694Z"
    }
   },
   "outputs": [],
   "source": [
    "import random\n",
    "import pandas as pd \n",
    "import numpy as np\n",
    "import math as ma\n",
    "import tensorflow as tf\n",
    "from sklearn.preprocessing import StandardScaler\n",
    "from sklearn.metrics import confusion_matrix,recall_score\n",
    "from sklearn.neighbors import KNeighborsClassifier\n",
    "from sklearn.preprocessing import LabelEncoder\n",
    "\n",
    "mydata=pd.read_csv('D:\\CODINGRAD PROJECTS\\Titanic-Train-Data.csv')"
   ]
  },
  {
   "cell_type": "code",
   "execution_count": null,
   "metadata": {},
   "outputs": [],
   "source": []
  },
  {
   "cell_type": "markdown",
   "metadata": {},
   "source": [
    "# Display our data"
   ]
  },
  {
   "cell_type": "code",
   "execution_count": null,
   "metadata": {
    "execution": {
     "iopub.execute_input": "2022-07-29T22:26:47.580235Z",
     "iopub.status.busy": "2022-07-29T22:26:47.579913Z",
     "iopub.status.idle": "2022-07-29T22:26:47.621134Z",
     "shell.execute_reply": "2022-07-29T22:26:47.619999Z",
     "shell.execute_reply.started": "2022-07-29T22:26:47.580208Z"
    }
   },
   "outputs": [],
   "source": [
    "mydata"
   ]
  },
  {
   "cell_type": "markdown",
   "metadata": {},
   "source": [
    "# Do some analysis on our data\n",
    "* show the number of null values in every column in the dataset"
   ]
  },
  {
   "cell_type": "code",
   "execution_count": null,
   "metadata": {
    "execution": {
     "iopub.execute_input": "2022-07-29T22:26:47.623185Z",
     "iopub.status.busy": "2022-07-29T22:26:47.62225Z",
     "iopub.status.idle": "2022-07-29T22:26:47.648587Z",
     "shell.execute_reply": "2022-07-29T22:26:47.647433Z",
     "shell.execute_reply.started": "2022-07-29T22:26:47.62315Z"
    }
   },
   "outputs": [],
   "source": [
    "print(mydata.isna().sum())"
   ]
  },
  {
   "cell_type": "markdown",
   "metadata": {},
   "source": [
    "# Describe the data\n",
    "* show some statistics about the data"
   ]
  },
  {
   "cell_type": "code",
   "execution_count": null,
   "metadata": {
    "execution": {
     "iopub.execute_input": "2022-07-29T22:26:47.65039Z",
     "iopub.status.busy": "2022-07-29T22:26:47.650081Z",
     "iopub.status.idle": "2022-07-29T22:26:47.689369Z",
     "shell.execute_reply": "2022-07-29T22:26:47.688484Z",
     "shell.execute_reply.started": "2022-07-29T22:26:47.650363Z"
    }
   },
   "outputs": [],
   "source": [
    "df.describe()"
   ]
  },
  {
   "cell_type": "markdown",
   "metadata": {},
   "source": [
    "# Data preprocessing\n",
    "* drop unuseful columns \n",
    "* fill null values of embarked column\n",
    "* divide my data to features and label\n",
    "* normalize the data for easy training \n"
   ]
  },
  {
   "cell_type": "code",
   "execution_count": null,
   "metadata": {
    "execution": {
     "iopub.execute_input": "2022-07-29T22:26:47.691933Z",
     "iopub.status.busy": "2022-07-29T22:26:47.691577Z",
     "iopub.status.idle": "2022-07-29T22:26:47.707464Z",
     "shell.execute_reply": "2022-07-29T22:26:47.706115Z",
     "shell.execute_reply.started": "2022-07-29T22:26:47.691902Z"
    }
   },
   "outputs": [],
   "source": [
    "df.drop(columns=['Cabin','Age', 'PassengerId','Name','Ticket','Parch','SibSp'],inplace=True)\n",
    "\n",
    "\n",
    "\n",
    "df[\"Embarked\"].fillna( random.choice(df[df['Embarked'] != np.nan][\"Embarked\"]), inplace =True)\n",
    "#divide data to training and label\n",
    "X=df.iloc[ : ,1:].values\n",
    "y=df.iloc[:,0]\n",
    "\n",
    "le = LabelEncoder()\n",
    "X[:, 1] = le.fit_transform(X[:, 1])\n",
    "X[:, 0] = le.fit_transform(X[:, 0])\n",
    "X[:, -1] = le.fit_transform(X[:, -1])\n",
    "\n",
    "\n",
    "sc = StandardScaler()\n",
    "X = sc.fit_transform(X)\n",
    "print(X)"
   ]
  },
  {
   "cell_type": "markdown",
   "metadata": {},
   "source": [
    "# Spliting the data\n",
    "* split my data to training and testing sets (.8 for training : .2 for testing)"
   ]
  },
  {
   "cell_type": "code",
   "execution_count": null,
   "metadata": {
    "execution": {
     "iopub.execute_input": "2022-07-29T22:26:47.710054Z",
     "iopub.status.busy": "2022-07-29T22:26:47.709273Z",
     "iopub.status.idle": "2022-07-29T22:26:47.715888Z",
     "shell.execute_reply": "2022-07-29T22:26:47.714891Z",
     "shell.execute_reply.started": "2022-07-29T22:26:47.710022Z"
    }
   },
   "outputs": [],
   "source": [
    "from sklearn.model_selection import train_test_split\n",
    "X_train, X_test, y_train, y_test = train_test_split(X, y, test_size = 0.2, random_state = 25)\n"
   ]
  },
  {
   "cell_type": "markdown",
   "metadata": {},
   "source": []
  },
  {
   "cell_type": "markdown",
   "metadata": {},
   "source": [
    "# Redo the same steps on test dataset (used only in submission)"
   ]
  },
  {
   "cell_type": "code",
   "execution_count": null,
   "metadata": {
    "execution": {
     "iopub.execute_input": "2022-07-29T22:26:47.718857Z",
     "iopub.status.busy": "2022-07-29T22:26:47.717999Z",
     "iopub.status.idle": "2022-07-29T22:26:47.740959Z",
     "shell.execute_reply": "2022-07-29T22:26:47.739447Z",
     "shell.execute_reply.started": "2022-07-29T22:26:47.718803Z"
    }
   },
   "outputs": [],
   "source": [
    "\n",
    "df_test.drop(columns=['Cabin','Age', 'PassengerId','Name','Ticket','Parch','SibSp'],inplace=True)\n",
    "\n",
    "\n",
    "df_test['Fare'].fillna((df_test['Fare'].mean()), inplace=True)\n",
    "df_test[\"Embarked\"].fillna( random.choice(df_test[df_test['Embarked'] != np.nan][\"Embarked\"]), inplace =True)\n",
    "\n",
    "sub_test=df_test\n",
    "\n",
    "\n",
    "\n",
    "\n",
    "le = LabelEncoder()\n",
    "sub_test.iloc[:, 1] = le.fit_transform(sub_test.iloc[:, 1])\n",
    "sub_test.iloc[:, 0] = le.fit_transform(sub_test.iloc[:, 0])\n",
    "sub_test.iloc[:, -1] = le.fit_transform(sub_test.iloc[:, -1])\n",
    "\n",
    "# Feature Scaling\n",
    "sc = StandardScaler()\n",
    "sub_test = sc.fit_transform(sub_test)\n",
    "print(sub_test)"
   ]
  },
  {
   "cell_type": "markdown",
   "metadata": {},
   "source": [
    "# Data Visualization  \n",
    "* pairplots of every column in the data\n",
    "* boxplot of fare column to detect outliers\n",
    "* display correlation matrix of the data\n",
    "* use AutoViz library for more visualization"
   ]
  },
  {
   "cell_type": "code",
   "execution_count": null,
   "metadata": {
    "execution": {
     "iopub.execute_input": "2022-07-29T22:26:47.743548Z",
     "iopub.status.busy": "2022-07-29T22:26:47.743058Z",
     "iopub.status.idle": "2022-07-29T22:26:49.87684Z",
     "shell.execute_reply": "2022-07-29T22:26:49.875729Z",
     "shell.execute_reply.started": "2022-07-29T22:26:47.743506Z"
    }
   },
   "outputs": [],
   "source": [
    "import seaborn as sns\n",
    "sns.pairplot(df)\n"
   ]
  },
  {
   "cell_type": "code",
   "execution_count": null,
   "metadata": {
    "execution": {
     "iopub.execute_input": "2022-07-29T22:26:49.879227Z",
     "iopub.status.busy": "2022-07-29T22:26:49.878597Z",
     "iopub.status.idle": "2022-07-29T22:26:50.050893Z",
     "shell.execute_reply": "2022-07-29T22:26:50.050045Z",
     "shell.execute_reply.started": "2022-07-29T22:26:49.879193Z"
    }
   },
   "outputs": [],
   "source": [
    "boxplot = df.boxplot(column=[ 'Fare']) "
   ]
  },
  {
   "cell_type": "code",
   "execution_count": null,
   "metadata": {
    "execution": {
     "iopub.execute_input": "2022-07-29T22:26:50.052984Z",
     "iopub.status.busy": "2022-07-29T22:26:50.052642Z",
     "iopub.status.idle": "2022-07-29T22:26:50.354624Z",
     "shell.execute_reply": "2022-07-29T22:26:50.353418Z",
     "shell.execute_reply.started": "2022-07-29T22:26:50.052953Z"
    }
   },
   "outputs": [],
   "source": [
    "import matplotlib.pyplot as plt\n",
    "plt.figure(figsize=(40,15))\n",
    "a=sns.heatmap(df.corr(),annot=True)"
   ]
  },
  {
   "cell_type": "code",
   "execution_count": null,
   "metadata": {
    "execution": {
     "iopub.execute_input": "2022-07-29T22:26:50.356908Z",
     "iopub.status.busy": "2022-07-29T22:26:50.356179Z",
     "iopub.status.idle": "2022-07-29T22:27:08.386667Z",
     "shell.execute_reply": "2022-07-29T22:27:08.385301Z",
     "shell.execute_reply.started": "2022-07-29T22:26:50.356861Z"
    }
   },
   "outputs": [],
   "source": [
    "pip install autoviz\n"
   ]
  },
  {
   "cell_type": "code",
   "execution_count": null,
   "metadata": {
    "execution": {
     "iopub.execute_input": "2022-07-29T22:27:08.388797Z",
     "iopub.status.busy": "2022-07-29T22:27:08.388413Z",
     "iopub.status.idle": "2022-07-29T22:27:17.172076Z",
     "shell.execute_reply": "2022-07-29T22:27:17.170626Z",
     "shell.execute_reply.started": "2022-07-29T22:27:08.388761Z"
    }
   },
   "outputs": [],
   "source": [
    "from autoviz.AutoViz_Class import AutoViz_Class\n",
    "AV = AutoViz_Class()\n",
    "df_av = AV.AutoViz('../input/titanic/train.csv')"
   ]
  },
  {
   "cell_type": "markdown",
   "metadata": {},
   "source": [
    "# Fiting and testing data"
   ]
  },
  {
   "cell_type": "markdown",
   "metadata": {},
   "source": [
    "# Use logistic regression\n",
    "<img src=\"https://pimages.toolbox.com/wp-content/uploads/2022/04/11040522/46-4.png\">"
   ]
  },
  {
   "cell_type": "code",
   "execution_count": null,
   "metadata": {
    "execution": {
     "iopub.execute_input": "2022-07-29T22:27:17.174084Z",
     "iopub.status.busy": "2022-07-29T22:27:17.173751Z",
     "iopub.status.idle": "2022-07-29T22:27:17.19289Z",
     "shell.execute_reply": "2022-07-29T22:27:17.191696Z",
     "shell.execute_reply.started": "2022-07-29T22:27:17.174053Z"
    }
   },
   "outputs": [],
   "source": [
    "\n",
    "from sklearn.linear_model import LogisticRegression\n",
    "\n",
    "model=LogisticRegression()\n",
    "model.fit(X_train,y_train)\n",
    "\n",
    "y_pred = model.predict(X_test)\n",
    "\n",
    "#display model score on test data\n",
    "score=model.score(X_test,y_test)\n",
    "print(score)\n",
    "# Making the Confusion Matrix\n",
    "cm = confusion_matrix(y_test, y_pred)\n",
    "print(cm)\n"
   ]
  },
  {
   "cell_type": "markdown",
   "metadata": {},
   "source": [
    "# Knearest neighbor \n",
    "<img src=\"https://static.javatpoint.com/tutorial/machine-learning/images/k-nearest-neighbor-algorithm-for-machine-learning3.png\">"
   ]
  },
  {
   "cell_type": "code",
   "execution_count": null,
   "metadata": {
    "execution": {
     "iopub.execute_input": "2022-07-29T22:27:17.198188Z",
     "iopub.status.busy": "2022-07-29T22:27:17.197532Z",
     "iopub.status.idle": "2022-07-29T22:27:17.227369Z",
     "shell.execute_reply": "2022-07-29T22:27:17.226227Z",
     "shell.execute_reply.started": "2022-07-29T22:27:17.19814Z"
    }
   },
   "outputs": [],
   "source": [
    "from sklearn.neighbors import KNeighborsClassifier\n",
    "knn=KNeighborsClassifier(n_neighbors=5)\n",
    "knn.fit(X_train,y_train)\n",
    "\n",
    "y_pred_knn = knn.predict(X_test)\n",
    "#display score on test data\n",
    "score=knn.score(X_test,y_test)\n",
    "print(score)\n",
    "# Making the Confusion Matrix\n",
    "cm = confusion_matrix(y_test, y_pred_knn)\n",
    "print(cm)\n"
   ]
  },
  {
   "cell_type": "markdown",
   "metadata": {},
   "source": [
    "# Support victor machine rbf kernel\n",
    "<img src=\"https://www.researchgate.net/publication/225415339/figure/fig1/AS:648614107955200@1531653062199/Decision-boundary-by-SVM-with-RBF-kernel-function.png\">"
   ]
  },
  {
   "cell_type": "code",
   "execution_count": null,
   "metadata": {
    "execution": {
     "iopub.execute_input": "2022-07-29T22:27:17.229737Z",
     "iopub.status.busy": "2022-07-29T22:27:17.229034Z",
     "iopub.status.idle": "2022-07-29T22:27:17.261409Z",
     "shell.execute_reply": "2022-07-29T22:27:17.260199Z",
     "shell.execute_reply.started": "2022-07-29T22:27:17.229691Z"
    }
   },
   "outputs": [],
   "source": [
    "from sklearn.svm import SVC\n",
    "rbf_svc = SVC(kernel='rbf')\n",
    "rbf_svc.fit(X_train,y_train)\n",
    "y_pred_svm=rbf_svc.predict(X_test)\n",
    "\n",
    "#display score on test data\n",
    "score=rbf_svc.score(X_test,y_test)\n",
    "print(score)\n",
    "#confusion matrix\n",
    "cm = confusion_matrix(y_test, y_pred_svm)\n",
    "print(cm)"
   ]
  },
  {
   "cell_type": "markdown",
   "metadata": {},
   "source": [
    "Naive bayes \n",
    "<img src=\"https://www.ayush-mandowara.in/static/6ef9d890b17d0cf6a0a05c94d41cc426/4ca57/naive_bayes.png\">"
   ]
  },
  {
   "cell_type": "code",
   "execution_count": null,
   "metadata": {
    "execution": {
     "iopub.execute_input": "2022-07-29T22:27:17.263827Z",
     "iopub.status.busy": "2022-07-29T22:27:17.26308Z",
     "iopub.status.idle": "2022-07-29T22:27:17.277059Z",
     "shell.execute_reply": "2022-07-29T22:27:17.276297Z",
     "shell.execute_reply.started": "2022-07-29T22:27:17.26378Z"
    }
   },
   "outputs": [],
   "source": [
    "from sklearn.naive_bayes import GaussianNB\n",
    "nb=GaussianNB()\n",
    "nb.fit(X_train,y_train)\n",
    "y_pred_nb=nb.predict(X_test)\n",
    "#display score on test data\n",
    "score=nb.score(X_test,y_test)\n",
    "print(score)\n",
    "#confusion matrix\n",
    "cm = confusion_matrix(y_test, y_pred_nb)\n",
    "print(cm)"
   ]
  },
  {
   "cell_type": "markdown",
   "metadata": {},
   "source": [
    "Decision Tree Classifier\n",
    "<img src='https://www.researchgate.net/profile/Nick-Bassiliades/publication/337413360/figure/fig2/AS:827514800836608@1574306311071/A-simple-decision-tree-classifier-with-4-features.ppm'>"
   ]
  },
  {
   "cell_type": "code",
   "execution_count": null,
   "metadata": {
    "execution": {
     "iopub.execute_input": "2022-07-29T22:27:17.279349Z",
     "iopub.status.busy": "2022-07-29T22:27:17.278427Z",
     "iopub.status.idle": "2022-07-29T22:27:17.325165Z",
     "shell.execute_reply": "2022-07-29T22:27:17.324385Z",
     "shell.execute_reply.started": "2022-07-29T22:27:17.279304Z"
    }
   },
   "outputs": [],
   "source": [
    "from sklearn.tree import DecisionTreeClassifier\n",
    "decision_tree = DecisionTreeClassifier()\n",
    "decision_tree.fit(X_train, y_train)\n",
    "y_pred_dt = decision_tree.predict(X_test)\n",
    "#display score on test data\n",
    "score=decision_tree.score(X_test,y_test)\n",
    "print(score)\n",
    "\n",
    "#confusion matrix\n",
    "cm = confusion_matrix(y_test, y_pred_dt)\n",
    "print(cm)"
   ]
  },
  {
   "cell_type": "code",
   "execution_count": null,
   "metadata": {
    "execution": {
     "iopub.execute_input": "2022-07-29T22:27:17.327182Z",
     "iopub.status.busy": "2022-07-29T22:27:17.326755Z",
     "iopub.status.idle": "2022-07-29T22:27:17.431688Z",
     "shell.execute_reply": "2022-07-29T22:27:17.430623Z",
     "shell.execute_reply.started": "2022-07-29T22:27:17.327139Z"
    }
   },
   "outputs": [],
   "source": [
    "from sklearn.ensemble import RandomForestClassifier\n",
    "random_forest = RandomForestClassifier(n_estimators=15)\n",
    "random_forest.fit(X_train, y_train)\n",
    "y_pred_rf = random_forest.predict(X_test)\n",
    "#display score on test data\n",
    "score=random_forest.score(X_test,y_test)\n",
    "print(score)\n",
    "#confusion matrix\n",
    "cm = confusion_matrix(y_test, y_pred_rf)\n",
    "print(cm)"
   ]
  },
  {
   "cell_type": "code",
   "execution_count": null,
   "metadata": {
    "execution": {
     "iopub.execute_input": "2022-07-29T22:27:17.43336Z",
     "iopub.status.busy": "2022-07-29T22:27:17.433071Z",
     "iopub.status.idle": "2022-07-29T22:27:17.51532Z",
     "shell.execute_reply": "2022-07-29T22:27:17.514029Z",
     "shell.execute_reply.started": "2022-07-29T22:27:17.433334Z"
    }
   },
   "outputs": [],
   "source": [
    "from sklearn.ensemble import AdaBoostClassifier\n",
    "from sklearn.ensemble import BaggingClassifier\n",
    "bagging = BaggingClassifier(AdaBoostClassifier(n_estimators=3),max_samples=0.5, max_features=0.5)\n",
    "bagging.fit(X_train,y_train)\n",
    "y_pred = bagging.predict(X_test)\n",
    "\n",
    "score=bagging.score(X_test,y_test)\n",
    "print(score)\n",
    "# Making the Confusion Matrix\n",
    "cm = confusion_matrix(y_test, y_pred)\n",
    "print(cm)\n"
   ]
  },
  {
   "cell_type": "code",
   "execution_count": null,
   "metadata": {
    "execution": {
     "iopub.execute_input": "2022-07-29T22:46:28.630377Z",
     "iopub.status.busy": "2022-07-29T22:46:28.629988Z",
     "iopub.status.idle": "2022-07-29T22:46:28.87555Z",
     "shell.execute_reply": "2022-07-29T22:46:28.874374Z",
     "shell.execute_reply.started": "2022-07-29T22:46:28.630344Z"
    }
   },
   "outputs": [],
   "source": [
    "from sklearn.svm import SVC\n",
    "from sklearn.ensemble import BaggingClassifier\n",
    "bagging_svm = BaggingClassifier(SVC(kernel='rbf'))\n",
    "bagging_svm.fit(X,y)\n",
    "\n",
    "score=bagging_svm.score(X,y)\n",
    "print(score)\n",
    "# Making the Confusion Matrix\n"
   ]
  },
  {
   "cell_type": "code",
   "execution_count": null,
   "metadata": {
    "execution": {
     "iopub.execute_input": "2022-07-29T22:33:19.122777Z",
     "iopub.status.busy": "2022-07-29T22:33:19.122146Z",
     "iopub.status.idle": "2022-07-29T22:33:19.342654Z",
     "shell.execute_reply": "2022-07-29T22:33:19.341322Z",
     "shell.execute_reply.started": "2022-07-29T22:33:19.122739Z"
    }
   },
   "outputs": [],
   "source": [
    "from sklearn.svm import SVC\n",
    "from sklearn.ensemble import RandomForestClassifier\n",
    "bagging = BaggingClassifier(RandomForestClassifier(n_estimators=10))\n",
    "bagging.fit(X_train,y_train)\n",
    "y_pred_bagsvm = bagging.predict(X_test)\n",
    "\n",
    "score=bagging.score(X_test,y_test)\n",
    "print(score)\n",
    "# Making the Confusion Matrix\n",
    "cm = confusion_matrix(y_test, y_pred_bagsvm)\n",
    "print(cm)"
   ]
  },
  {
   "cell_type": "markdown",
   "metadata": {},
   "source": [
    "# As we show the best score is support victor machine classifier"
   ]
  },
  {
   "cell_type": "code",
   "execution_count": null,
   "metadata": {
    "execution": {
     "iopub.execute_input": "2022-07-29T22:46:41.972505Z",
     "iopub.status.busy": "2022-07-29T22:46:41.972111Z",
     "iopub.status.idle": "2022-07-29T22:46:42.042358Z",
     "shell.execute_reply": "2022-07-29T22:46:42.041309Z",
     "shell.execute_reply.started": "2022-07-29T22:46:41.972471Z"
    }
   },
   "outputs": [],
   "source": [
    "final=bagging_svm.predict(sub_test)\n",
    "final"
   ]
  },
  {
   "cell_type": "markdown",
   "metadata": {},
   "source": [
    "# Save submission "
   ]
  },
  {
   "cell_type": "code",
   "execution_count": null,
   "metadata": {
    "execution": {
     "iopub.execute_input": "2022-07-29T22:46:45.622144Z",
     "iopub.status.busy": "2022-07-29T22:46:45.621722Z",
     "iopub.status.idle": "2022-07-29T22:46:45.638056Z",
     "shell.execute_reply": "2022-07-29T22:46:45.636779Z",
     "shell.execute_reply.started": "2022-07-29T22:46:45.622105Z"
    }
   },
   "outputs": [],
   "source": [
    "test = pd.read_csv(r\"../input/titanic/test.csv\")\n",
    "submission = pd.DataFrame({\n",
    "    \"PassengerId\" : test[\"PassengerId\"],\n",
    "    \"Survived\" : final\n",
    "})\n",
    "submission.head(10)"
   ]
  },
  {
   "cell_type": "code",
   "execution_count": null,
   "metadata": {
    "execution": {
     "iopub.execute_input": "2022-07-29T22:35:00.569352Z",
     "iopub.status.busy": "2022-07-29T22:35:00.568979Z",
     "iopub.status.idle": "2022-07-29T22:35:00.576867Z",
     "shell.execute_reply": "2022-07-29T22:35:00.575596Z",
     "shell.execute_reply.started": "2022-07-29T22:35:00.56932Z"
    }
   },
   "outputs": [],
   "source": [
    "submission.to_csv('submission.csv', index = False)\n"
   ]
  },
  {
   "cell_type": "markdown",
   "metadata": {},
   "source": [
    "# If you have any note on my notebook you are welcome"
   ]
  }
 ],
 "metadata": {
  "kernelspec": {
   "display_name": "Python 3 (ipykernel)",
   "language": "python",
   "name": "python3"
  },
  "language_info": {
   "codemirror_mode": {
    "name": "ipython",
    "version": 3
   },
   "file_extension": ".py",
   "mimetype": "text/x-python",
   "name": "python",
   "nbconvert_exporter": "python",
   "pygments_lexer": "ipython3",
   "version": "3.9.12"
  }
 },
 "nbformat": 4,
 "nbformat_minor": 4
}
